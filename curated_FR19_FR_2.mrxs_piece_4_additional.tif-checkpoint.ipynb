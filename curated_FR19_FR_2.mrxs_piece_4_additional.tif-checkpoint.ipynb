{
 "cells": [
  {
   "cell_type": "code",
   "execution_count": 1,
   "id": "6d1f7424",
   "metadata": {},
   "outputs": [],
   "source": [
    "from PIL import Image\n",
    "import os, sys\n",
    "import numpy as np\n",
    "from PIL import Image, ImageDraw"
   ]
  },
  {
   "cell_type": "code",
   "execution_count": 6,
   "id": "9b2b703a",
   "metadata": {},
   "outputs": [],
   "source": [
    "img = Image.open('FR19_FR_2.mrxs_piece_4_additional.tif')\n",
    "img.show()"
   ]
  },
  {
   "cell_type": "code",
   "execution_count": 7,
   "id": "54655eef",
   "metadata": {},
   "outputs": [
    {
     "name": "stdout",
     "output_type": "stream",
     "text": [
      "(10002, 3518)\n"
     ]
    }
   ],
   "source": [
    "print(img.size)"
   ]
  },
  {
   "cell_type": "code",
   "execution_count": 8,
   "id": "2a13ea4f",
   "metadata": {},
   "outputs": [
    {
     "name": "stdout",
     "output_type": "stream",
     "text": [
      "TIFF (10002, 3518) RGB\n"
     ]
    }
   ],
   "source": [
    "print(img.format, img.size, img.mode)"
   ]
  },
  {
   "cell_type": "code",
   "execution_count": 13,
   "id": "df00a939",
   "metadata": {},
   "outputs": [],
   "source": [
    "# Importing ImageDraw for\n",
    "# using floodfill function\n",
    "from PIL import Image, ImageDraw\n",
    "\n",
    "  \n",
    "# Location of seed\n",
    "seed = (0, 0)\n",
    "  \n",
    "# Pixel Value which would\n",
    "# be used for replacement\n",
    "rep_value = (255, 255, 255, 255)\n",
    "  \n",
    "# Calling the floodfill() function and\n",
    "# passing it image, seed, value and\n",
    "# thresh as arguments\n",
    "ImageDraw.floodfill(img, seed, rep_value, thresh = 100)\n",
    "  \n",
    "img.show()\n",
    "with Image.open('FR19_FR_2.mrxs_piece_4_additional.tif') as image:\n",
    "    width, height = image.size\n",
    "def main():\n",
    "    try:\n",
    "        #Relative Path\n",
    "        img = Image.open('FR19_FR_2.mrxs_piece_4_additional.tif')\n",
    "        width, height = img.size\n",
    "          \n",
    "        area = (0, 0, width/2, height/1)\n",
    "        img = img.crop(area)\n",
    "          \n",
    "        #Saved in the same relative location\n",
    "        img.save('curated_FR19_FR_2.mrxs_piece_4_additional.tif') \n",
    "          \n",
    "    except IOError:\n",
    "        pass\n",
    "  \n",
    "if __name__ == \"__main__\":\n",
    "    main()\n",
    "image = Image.open('curated_FR19_FR_2.mrxs_piece_4_additional.tif')\n",
    "image.show()"
   ]
  },
  {
   "cell_type": "code",
   "execution_count": 15,
   "id": "9c53a1dd",
   "metadata": {},
   "outputs": [],
   "source": [
    "def main():\n",
    "    try:\n",
    "        #Relative Path\n",
    "        img = Image.open('curated_FR19_FR_2.mrxs_piece_4_additional.tif') \n",
    "          \n",
    "        #Angle given\n",
    "        img = img.rotate(180) \n",
    "          \n",
    "         #Saved in the same relative location\n",
    "        img.save('rotated_curated_FR19_FR_2.mrxs_piece_4_additional.tif')\n",
    "    except IOError:\n",
    "        pass\n",
    "  \n",
    "if __name__ == \"__main__\":\n",
    "    main()"
   ]
  },
  {
   "cell_type": "code",
   "execution_count": 18,
   "id": "fab45bd8",
   "metadata": {},
   "outputs": [],
   "source": [
    "image = Image.open('rotated_curated_FR19_FR_2.mrxs_piece_4_additional.tif')\n",
    "image.show()"
   ]
  },
  {
   "cell_type": "code",
   "execution_count": 27,
   "id": "558f892d",
   "metadata": {},
   "outputs": [],
   "source": [
    "# Location of seed\n",
    "seed = (0, 0)\n",
    "  \n",
    "# Pixel Value which would\n",
    "# be used for replacement\n",
    "rep_value = (255, 255, 255, 255)\n",
    "  \n",
    "# Calling the floodfill() function and\n",
    "# passing it image, seed, value and\n",
    "# thresh as arguments\n",
    "ImageDraw.floodfill(img, seed, rep_value, thresh = 100)\n",
    "  \n",
    "img.show()\n",
    "with Image.open('rotated_curated_FR19_FR_2.mrxs_piece_4_additional.tif') as image:\n",
    "    width, height = image.size\n",
    "def main():\n",
    "    try:\n",
    "        #Relative Path\n",
    "        img = Image.open('rotated_curated_FR19_FR_2.mrxs_piece_4_additional.tif')\n",
    "        width, height = img.size\n",
    "          \n",
    "        area = (0, 0, width/1.351, height/1)\n",
    "        img = img.crop(area)\n",
    "          \n",
    "        #Saved in the same relative location\n",
    "        img.save('curated_rotated_curated_FR19_FR_2.mrxs_piece_4_additional.tif') \n",
    "          \n",
    "    except IOError:\n",
    "        pass\n",
    "  \n",
    "if __name__ == \"__main__\":\n",
    "    main()\n",
    "image = Image.open('curated_rotated_curated_FR19_FR_2.mrxs_piece_4_additional.tif')\n",
    "image.show()"
   ]
  },
  {
   "cell_type": "code",
   "execution_count": 28,
   "id": "48fb5ded",
   "metadata": {},
   "outputs": [],
   "source": [
    "def main():\n",
    "    try:\n",
    "        #Relative Path\n",
    "        img = Image.open('curated_rotated_curated_FR19_FR_2.mrxs_piece_4_additional.tif') \n",
    "          \n",
    "        #Angle given\n",
    "        img = img.rotate(180) \n",
    "          \n",
    "         #Saved in the same relative location\n",
    "        img.save('rotated_curated_rotated_curated_FR19_FR_2.mrxs_piece_4_additional.tif')\n",
    "    except IOError:\n",
    "        pass\n",
    "  \n",
    "if __name__ == \"__main__\":\n",
    "    main()"
   ]
  },
  {
   "cell_type": "code",
   "execution_count": 29,
   "id": "3635c7e8",
   "metadata": {},
   "outputs": [],
   "source": [
    "image = Image.open('rotated_curated_rotated_curated_FR19_FR_2.mrxs_piece_4_additional.tif')\n",
    "image.show()"
   ]
  }
 ],
 "metadata": {
  "kernelspec": {
   "display_name": "Python 3 (ipykernel)",
   "language": "python",
   "name": "python3"
  },
  "language_info": {
   "codemirror_mode": {
    "name": "ipython",
    "version": 3
   },
   "file_extension": ".py",
   "mimetype": "text/x-python",
   "name": "python",
   "nbconvert_exporter": "python",
   "pygments_lexer": "ipython3",
   "version": "3.10.4"
  }
 },
 "nbformat": 4,
 "nbformat_minor": 5
}
